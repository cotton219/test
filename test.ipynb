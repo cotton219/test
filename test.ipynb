{
 "cells": [
  {
   "cell_type": "code",
   "execution_count": null,
   "id": "914b9462",
   "metadata": {},
   "outputs": [],
   "source": [
    "7 3"
   ]
  },
  {
   "cell_type": "code",
   "execution_count": null,
   "id": "e3afb8fb",
   "metadata": {},
   "outputs": [],
   "source": [
    "n, k = map(int, input().split())"
   ]
  },
  {
   "cell_type": "code",
   "execution_count": null,
   "id": "c49f3c1d",
   "metadata": {},
   "outputs": [],
   "source": [
    "1,2,3,4,5,6,7\n",
    "\n",
    "3\n",
    "1,2,4,5,6,7\n",
    "\n",
    "6\n",
    "1,2,4,5,7\n",
    "\n",
    "2\n",
    "\n",
    "\n",
    "1 2 3 4 5\n",
    "\n",
    "1 3 4 5\n",
    "\n",
    "1 3 5\n",
    "\n"
   ]
  },
  {
   "cell_type": "code",
   "execution_count": 71,
   "id": "4ce6f6ab",
   "metadata": {},
   "outputs": [
    {
     "name": "stdout",
     "output_type": "stream",
     "text": [
      "<3, 6, 2, 7, 5, 1, 4>\n"
     ]
    }
   ],
   "source": [
    "n, k = map(int, input().split())\n",
    "\n",
    "array = [i for i in range(1, n+1)]\n",
    "\n",
    "result = []   \n",
    "count = 0\n",
    "\n",
    "while array:\n",
    "    count += k-1\n",
    "    if count >= len(array):\n",
    "        count = count%len(array)\n",
    "    result.append(array.pop(count))\n",
    "\n",
    "print('<'+', '.join(map(str,result))+'>')\n",
    "    "
   ]
  },
  {
   "cell_type": "code",
   "execution_count": 10,
   "id": "69470980",
   "metadata": {},
   "outputs": [],
   "source": [
    "del array[2]\n",
    "del array[5]"
   ]
  },
  {
   "cell_type": "code",
   "execution_count": 66,
   "id": "1a7a51b5",
   "metadata": {},
   "outputs": [],
   "source": [
    "array = [1,2,3,4,5,6,7]"
   ]
  },
  {
   "cell_type": "code",
   "execution_count": 67,
   "id": "ff986103",
   "metadata": {},
   "outputs": [
    {
     "data": {
      "text/plain": [
       "4"
      ]
     },
     "execution_count": 67,
     "metadata": {},
     "output_type": "execute_result"
    }
   ],
   "source": [
    "array.pop()"
   ]
  },
  {
   "cell_type": "code",
   "execution_count": 35,
   "id": "30950810",
   "metadata": {},
   "outputs": [
    {
     "data": {
      "text/plain": [
       "[1, 4]"
      ]
     },
     "execution_count": 35,
     "metadata": {},
     "output_type": "execute_result"
    }
   ],
   "source": [
    "array = [1,4]\n",
    "array[:2]"
   ]
  }
 ],
 "metadata": {
  "kernelspec": {
   "display_name": "Python 3 (ipykernel)",
   "language": "python",
   "name": "python3"
  },
  "language_info": {
   "codemirror_mode": {
    "name": "ipython",
    "version": 3
   },
   "file_extension": ".py",
   "mimetype": "text/x-python",
   "name": "python",
   "nbconvert_exporter": "python",
   "pygments_lexer": "ipython3",
   "version": "3.10.9"
  }
 },
 "nbformat": 4,
 "nbformat_minor": 5
}
